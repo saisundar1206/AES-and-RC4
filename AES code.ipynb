from Crypto.Cipher import AES
from Crypto.Random import get_random_bytes
from Crypto.Util.Padding import pad, unpad
import base64

def encrypt_AES(plain_text, key):
   
    plain_text = plain_text.encode('utf-8')
    iv = get_random_bytes(AES.block_size)
    cipher = AES.new(key, AES.MODE_CBC, iv)
    padded_text = pad(plain_text, AES.block_size)
    cipher_text = cipher.encrypt(padded_text)
    return (base64.b64encode(cipher_text).decode('utf-8'), 
            base64.b64encode(iv).decode('utf-8'))
def decrypt_AES(cipher_text, key, iv):
     try:
        cipher_text = base64.b64decode(cipher_text)
        iv = base64.b64decode(iv)
        cipher = AES.new(key, AES.MODE_CBC, iv)
        padded_text = cipher.decrypt(cipher_text)
        plain_text = unpad(padded_text, AES.block_size)
        
        return plain_text.decode('utf-8')
     except (ValueError, KeyError) as e:
        return f"Decryption failed: {str(e)}"
if __name__ == "__main__":
    key = get_random_bytes(32)
    original_text = "Hello, this is SUNDAR!"
    
    cipher_text, iv = encrypt_AES(original_text, key)
    print(f"Original text: {original_text}")
    print(f"Encrypted (base64): {cipher_text}")
    print(f"IV (base64): {iv}")
    
    decrypted_text = decrypt_AES(cipher_text, key, iv)
    print(f"Decrypted text: {decrypted_text}")