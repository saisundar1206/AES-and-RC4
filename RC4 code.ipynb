def rc4(key, plaintext):
    def ksa(key):
        S = list(range(256))
        j = 0
        key_length = len(key)
        
        for i in range(256):
            j = (j + S[i] + key[i % key_length]) % 256
            S[i], S[j] = S[j], S[i]
        return S
    
    def prga(S, data_length):
        i = j = 0
        keystream = []
        
        for _ in range(data_length):
            i = (i + 1) % 256
            j = (j + S[i]) % 256
            S[i], S[j] = S[j], S[i]
            keystream.append(S[(S[i] + S[j]) % 256])
        return keystream
    
    if isinstance(key, str):
        key = key.encode('utf-8')
    if isinstance(plaintext, str):
        plaintext = plaintext.encode('utf-8')
    
    S = ksa(key)
    
    keystream = prga(S, len(plaintext))
    ciphertext = bytes(a ^ b for a, b in zip(plaintext, keystream))
    
    return ciphertext

def main():
    key = "SecretKey"
    plaintext = "Hello, I'm a M-Tech student"
    
    encrypted = rc4(key, plaintext)
    print(f"Encrypted: {encrypted.hex()}")
    
    decrypted = rc4(key, encrypted)
    print(f"Decrypted: {decrypted.decode('utf-8')}")

if __name__ == "__main__":
    main()